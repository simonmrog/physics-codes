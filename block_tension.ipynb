{
 "cells": [
  {
   "cell_type": "code",
   "execution_count": 3,
   "metadata": {},
   "outputs": [],
   "source": [
    "#Block of weight W suspended by two strings making angles alpha and beta with the horizontal\n",
    "#Equations of motion are solved and the goal is to see the behavior of the tension in terms of \n",
    "#its angle alpha.\n",
    "\n",
    "%matplotlib inline\n",
    "\n",
    "import math\n",
    "import matplotlib.pyplot as plt"
   ]
  },
  {
   "cell_type": "code",
   "execution_count": 4,
   "metadata": {},
   "outputs": [
    {
     "data": {
      "image/png": "[encoded data removed]",
      "text/plain": [
       "<Figure size 432x288 with 1 Axes>"
      ]
     },
     "metadata": {
      "needs_background": "light"
     },
     "output_type": "display_data"
    }
   ],
   "source": [
    "def Ta_div_W (a, b):\n",
    "    alpha = math.radians(a)\n",
    "    beta = math.radians(b)\n",
    "    T = math.cos(beta) / math.sin(alpha + beta)\n",
    "    return T\n",
    "\n",
    "def Tb_div_W (a, b):\n",
    "    alpha = math.radians(a)\n",
    "    beta = math.radians(b)\n",
    "    T = math.cos(alpha) / math.sin(alpha + beta)\n",
    "    return T\n",
    "\n",
    "T = []\n",
    "alpha = []\n",
    "beta = 60.0\n",
    "dtheta = 5\n",
    "\n",
    "file = open(\"data.dat\", \"w\")\n",
    "\n",
    "for alpha_i in range(0, 95, dtheta):\n",
    "    \n",
    "    T_i = Ta_div_W(alpha_i, beta)\n",
    "    alpha.append(alpha_i)\n",
    "    T.append(T_i)\n",
    "    file.write(str(alpha_i) + \" \" + str(T_i) + \"\\n\")\n",
    "\n",
    "file.close()\n",
    "\n",
    "fig, p = plt.subplots()\n",
    "xticks = [0, 10, 20, 30, 40, 50, 60, 70, 80, 85]\n",
    "p.set_xticks(xticks)\n",
    "p.plot(alpha, T, \"bs\")\n",
    "             \n",
    "plt.title(\"Ta/W VS alfa\")\n",
    "plt.xlabel(\"alfa (°)\")\n",
    "plt.ylabel(\"Ta/W\")\n",
    "plt.show()"
   ]
  },
  {
   "cell_type": "code",
   "execution_count": null,
   "metadata": {},
   "outputs": [],
   "source": []
  }
 ],
 "metadata": {
  "kernelspec": {
   "display_name": "Python 3",
   "language": "python",
   "name": "python3"
  },
  "language_info": {
   "codemirror_mode": {
    "name": "ipython",
    "version": 3
   },
   "file_extension": ".py",
   "mimetype": "text/x-python",
   "name": "python",
   "nbconvert_exporter": "python",
   "pygments_lexer": "ipython3",
   "version": "3.5.2"
  }
 },
 "nbformat": 4,
 "nbformat_minor": 2
}
